{
 "cells": [
  {
   "cell_type": "markdown",
   "metadata": {},
   "source": [
    "Sherlock considers a string to be valid if all characters of the string appear the same number of times. It is also valid if he can remove just  character at  index in the string, and the remaining characters will occur the same number of times. Given a string , determine if it is valid. If so, return YES, otherwise return NO.\n",
    "\n",
    "Example\n",
    "s=abc\n",
    "\n",
    "This is a valid string because frequencies are {a:1,b:1,c:1}\n",
    "\n",
    "\n",
    "This is a valid string because we can remove one  and have  of each character in the remaining string.\n",
    "\n",
    "s=abcc\n",
    "\n",
    "This string is not valid as we can only remove  occurrence of {a:1,b:1,c:2}. That leaves character frequencies of .\n",
    "\n",
    "Function Description\n",
    "\n",
    "Complete the isValid function in the editor below.\n",
    "\n",
    "isValid has the following parameter(s):\n",
    "\n",
    "string s: a string\n",
    "Returns\n",
    "\n",
    "string: either YES or NO"
   ]
  },
  {
   "cell_type": "code",
   "execution_count": 1,
   "metadata": {},
   "outputs": [
    {
     "name": "stdout",
     "output_type": "stream",
     "text": [
      "abcc\n",
      "YES\n"
     ]
    }
   ],
   "source": [
    "#!/bin/python3\n",
    "\n",
    "import math\n",
    "import os\n",
    "import random\n",
    "import re\n",
    "import sys\n",
    "from collections import Counter\n",
    "\n",
    "# Complete the isValid function below.\n",
    "def isValid(s):\n",
    "    string=Counter(s)\n",
    "    y=\"YES\"\n",
    "    n=\"NO\"\n",
    "    string=Counter(string.values())\n",
    "    if len(string.keys())==1:\n",
    "        return y\n",
    "        \n",
    "    elif len(string.keys())==2:\n",
    "        key1,key2=string.keys()\n",
    "        if string[key1]==1 and (key1-1==key2 or key1-1==0):\n",
    "            return y\n",
    "        if string[key2]==1 and (key2-1==key1 or key2-1==0):\n",
    "            return y\n",
    "        else:\n",
    "            return n\n",
    "    else:\n",
    "        return n\n",
    "    \n",
    "\n",
    "if __name__ == '__main__':\n",
    "    \n",
    "\n",
    "    s = input()\n",
    "\n",
    "    result = isValid(s)\n",
    "    print(result)\n",
    "\n"
   ]
  },
  {
   "cell_type": "code",
   "execution_count": null,
   "metadata": {},
   "outputs": [],
   "source": []
  }
 ],
 "metadata": {
  "kernelspec": {
   "display_name": "Python 3",
   "language": "python",
   "name": "python3"
  },
  "language_info": {
   "codemirror_mode": {
    "name": "ipython",
    "version": 3
   },
   "file_extension": ".py",
   "mimetype": "text/x-python",
   "name": "python",
   "nbconvert_exporter": "python",
   "pygments_lexer": "ipython3",
   "version": "3.6.9"
  }
 },
 "nbformat": 4,
 "nbformat_minor": 4
}
