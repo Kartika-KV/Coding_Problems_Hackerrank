{
 "cells": [
  {
   "cell_type": "markdown",
   "metadata": {},
   "source": [
    "A string is said to be a special string if either of two conditions is met:\n",
    "\n",
    "All of the characters are the same, e.g. aaa.\n",
    "All characters except the middle one are the same, e.g. aadaa.\n",
    "A special substring is any substring of a string which meets one of those criteria. Given a string, determine how many special substrings can be formed from it.\n",
    "\n",
    "Example\n",
    "\n",
    " contains the following  special substrings: .\n",
    "\n",
    "Function Description\n",
    "\n",
    "Complete the substrCount function in the editor below.\n",
    "\n",
    "substrCount has the following parameter(s):\n",
    "\n",
    "int n: the length of string s\n",
    "string s: a string\n",
    "Returns\n",
    "- int: the number of special substrings\n",
    "\n",
    "Input Format\n",
    "\n",
    "The first line contains an integer, , the length of .\n",
    "The second line contains the string .\n",
    "\n",
    "Each character of the string is a lowercase English letter, .\n",
    "\n"
   ]
  },
  {
   "cell_type": "code",
   "execution_count": 1,
   "metadata": {},
   "outputs": [
    {
     "data": {
      "text/plain": [
       "10"
      ]
     },
     "execution_count": 1,
     "metadata": {},
     "output_type": "execute_result"
    }
   ],
   "source": [
    "def substrCount(n, s):\n",
    "    result = 0\n",
    "    i = 0\n",
    "    \n",
    "    while (i < n):\n",
    "        char_count = 1\n",
    "        while (i + 1 < n and s[i] == s[i+1]):\n",
    "            i += 1\n",
    "            char_count += 1\n",
    "    \n",
    "        result += int(char_count * (char_count + 1) / 2)\n",
    "        i += 1\n",
    "    \n",
    "    for i in range(1, n):\n",
    "        char_count = 1\n",
    "        while (\n",
    "            i + char_count < n and\n",
    "            i - char_count >= 0 and\n",
    "            s[i] != s[i-1] and\n",
    "            s[i-char_count] == s[i+char_count] and\n",
    "            s[i-1] == s[i-char_count]\n",
    "        ):\n",
    "            char_count += 1\n",
    "    \n",
    "        result += char_count - 1\n",
    "    \n",
    "    return result\n",
    "substrCount(4,'aaaa')"
   ]
  },
  {
   "cell_type": "code",
   "execution_count": null,
   "metadata": {},
   "outputs": [],
   "source": []
  }
 ],
 "metadata": {
  "kernelspec": {
   "display_name": "Python 3",
   "language": "python",
   "name": "python3"
  },
  "language_info": {
   "codemirror_mode": {
    "name": "ipython",
    "version": 3
   },
   "file_extension": ".py",
   "mimetype": "text/x-python",
   "name": "python",
   "nbconvert_exporter": "python",
   "pygments_lexer": "ipython3",
   "version": "3.6.9"
  }
 },
 "nbformat": 4,
 "nbformat_minor": 4
}
